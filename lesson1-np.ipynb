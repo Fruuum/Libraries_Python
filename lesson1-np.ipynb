{
 "cells": [
  {
   "cell_type": "code",
   "execution_count": 6,
   "id": "128aaf7c",
   "metadata": {},
   "outputs": [
    {
     "name": "stdout",
     "output_type": "stream",
     "text": [
      "Hello, world!"
     ]
    }
   ],
   "source": [
    "from time import sleep\n",
    "for letters in \"Hello, world!\":\n",
    "    sleep(0.25)\n",
    "    print(letters, end ='')"
   ]
  },
  {
   "cell_type": "markdown",
   "id": "b8936987",
   "metadata": {},
   "source": [
    "### task1"
   ]
  },
  {
   "cell_type": "code",
   "execution_count": 5,
   "id": "27620870",
   "metadata": {},
   "outputs": [],
   "source": [
    "import numpy as np"
   ]
  },
  {
   "cell_type": "code",
   "execution_count": 9,
   "id": "6e3db7a9",
   "metadata": {},
   "outputs": [
    {
     "data": {
      "text/plain": [
       "array([[ 1,  6],\n",
       "       [ 2,  8],\n",
       "       [ 3, 11],\n",
       "       [ 3, 10],\n",
       "       [ 1,  7]])"
      ]
     },
     "execution_count": 9,
     "metadata": {},
     "output_type": "execute_result"
    }
   ],
   "source": [
    "a = ([1, 6], [2, 8], [3, 11], [3, 10], [1, 7])\n",
    "np.array(a)"
   ]
  },
  {
   "cell_type": "code",
   "execution_count": 10,
   "id": "1cdd976c",
   "metadata": {},
   "outputs": [
    {
     "data": {
      "text/plain": [
       "array([[2. , 8.4]])"
      ]
     },
     "execution_count": 10,
     "metadata": {},
     "output_type": "execute_result"
    }
   ],
   "source": [
    "a_mean = np.mean(a, axis = 0, keepdims = True)\n",
    "a_mean"
   ]
  },
  {
   "cell_type": "markdown",
   "id": "45730949",
   "metadata": {},
   "source": [
    "### task2"
   ]
  },
  {
   "cell_type": "code",
   "execution_count": 14,
   "id": "9a306036",
   "metadata": {},
   "outputs": [
    {
     "data": {
      "text/plain": [
       "array([[-1. , -2.4],\n",
       "       [ 0. , -0.4],\n",
       "       [ 1. ,  2.6],\n",
       "       [ 1. ,  1.6],\n",
       "       [-1. , -1.4]])"
      ]
     },
     "execution_count": 14,
     "metadata": {},
     "output_type": "execute_result"
    }
   ],
   "source": [
    "a_centered = np.subtract(a, a_mean)\n",
    "a_centered"
   ]
  },
  {
   "cell_type": "markdown",
   "id": "9d7fafbd",
   "metadata": {},
   "source": [
    "### task3"
   ]
  },
  {
   "cell_type": "code",
   "execution_count": 20,
   "id": "686398c9",
   "metadata": {},
   "outputs": [
    {
     "data": {
      "text/plain": [
       "8.0"
      ]
     },
     "execution_count": 20,
     "metadata": {},
     "output_type": "execute_result"
    }
   ],
   "source": [
    "a_centered_sp = np.dot(a_centered[0:, 0], a_centered[0:, 1])\n",
    "a_centered_sp"
   ]
  },
  {
   "cell_type": "code",
   "execution_count": 24,
   "id": "401e2db9",
   "metadata": {},
   "outputs": [
    {
     "data": {
      "text/plain": [
       "2.0"
      ]
     },
     "execution_count": 24,
     "metadata": {},
     "output_type": "execute_result"
    }
   ],
   "source": [
    "rezult = a_centered_sp / (np.array(a).shape[0] - 1)\n",
    "rezult"
   ]
  },
  {
   "cell_type": "markdown",
   "id": "bd165668",
   "metadata": {},
   "source": [
    "### task4"
   ]
  },
  {
   "cell_type": "code",
   "execution_count": 26,
   "id": "d2e7abb4",
   "metadata": {},
   "outputs": [
    {
     "data": {
      "text/plain": [
       "array([[1. , 2. ],\n",
       "       [2. , 4.3]])"
      ]
     },
     "execution_count": 26,
     "metadata": {},
     "output_type": "execute_result"
    }
   ],
   "source": [
    "transp_a = np.array(a).transpose()\n",
    "covar = np.cov(transp_a)\n",
    "covar"
   ]
  },
  {
   "cell_type": "markdown",
   "id": "bdbeee49",
   "metadata": {},
   "source": [
    "или так"
   ]
  },
  {
   "cell_type": "code",
   "execution_count": 28,
   "id": "ba767d5f",
   "metadata": {},
   "outputs": [
    {
     "data": {
      "text/plain": [
       "array([[1. , 2. ],\n",
       "       [2. , 4.3]])"
      ]
     },
     "execution_count": 28,
     "metadata": {},
     "output_type": "execute_result"
    }
   ],
   "source": [
    "covar = np.cov(np.array(a), rowvar = False)\n",
    "covar"
   ]
  },
  {
   "cell_type": "markdown",
   "id": "a862a979",
   "metadata": {},
   "source": [
    "правда я так и не понял, для чего применяется ковариация и почему ее значение равно элементу матрицы [0,1] "
   ]
  }
 ],
 "metadata": {
  "kernelspec": {
   "display_name": "Python 3 (ipykernel)",
   "language": "python",
   "name": "python3"
  },
  "language_info": {
   "codemirror_mode": {
    "name": "ipython",
    "version": 3
   },
   "file_extension": ".py",
   "mimetype": "text/x-python",
   "name": "python",
   "nbconvert_exporter": "python",
   "pygments_lexer": "ipython3",
   "version": "3.9.7"
  }
 },
 "nbformat": 4,
 "nbformat_minor": 5
}
