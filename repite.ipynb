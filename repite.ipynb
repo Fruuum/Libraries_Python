{
 "cells": [
  {
   "cell_type": "code",
   "execution_count": 2,
   "id": "60474488",
   "metadata": {},
   "outputs": [
    {
     "data": {
      "text/plain": [
       "array([12, 13, 14, 15, 16, 17, 18, 19, 20, 21, 22, 23])"
      ]
     },
     "execution_count": 2,
     "metadata": {},
     "output_type": "execute_result"
    }
   ],
   "source": [
    "import numpy as np\n",
    "a = np.array([i for i in range(12, 24)])\n",
    "a"
   ]
  },
  {
   "cell_type": "code",
   "execution_count": 3,
   "id": "eca1ce3b",
   "metadata": {},
   "outputs": [],
   "source": [
    "b1 = np.reshape(a, (2, 6), order = 'C')\n",
    "b2 = np.reshape(a, (3, 4), order = 'F')\n",
    "b3 = np.reshape(a, (4, 3))\n",
    "b4 = np.reshape(a, (6, 2))\n",
    "b5 = np.reshape(a, (12, 1))"
   ]
  },
  {
   "cell_type": "code",
   "execution_count": 4,
   "id": "bf7a3eda",
   "metadata": {},
   "outputs": [
    {
     "data": {
      "text/plain": [
       "(array([[12, 13, 14, 15, 16, 17],\n",
       "        [18, 19, 20, 21, 22, 23]]),\n",
       " array([[12, 15, 18, 21],\n",
       "        [13, 16, 19, 22],\n",
       "        [14, 17, 20, 23]]),\n",
       " array([[12, 13, 14],\n",
       "        [15, 16, 17],\n",
       "        [18, 19, 20],\n",
       "        [21, 22, 23]]),\n",
       " array([[12, 13],\n",
       "        [14, 15],\n",
       "        [16, 17],\n",
       "        [18, 19],\n",
       "        [20, 21],\n",
       "        [22, 23]]),\n",
       " array([[12],\n",
       "        [13],\n",
       "        [14],\n",
       "        [15],\n",
       "        [16],\n",
       "        [17],\n",
       "        [18],\n",
       "        [19],\n",
       "        [20],\n",
       "        [21],\n",
       "        [22],\n",
       "        [23]]))"
      ]
     },
     "execution_count": 4,
     "metadata": {},
     "output_type": "execute_result"
    }
   ],
   "source": [
    "b1, b2, b3, b4, b5"
   ]
  },
  {
   "cell_type": "code",
   "execution_count": 5,
   "id": "3090bb33",
   "metadata": {},
   "outputs": [],
   "source": [
    "c1 = np.reshape(a, (-1, 6))\n",
    "c2 = np.reshape(a, (-1, 4))\n",
    "c3 = np.reshape(a, (4, -1))\n",
    "c4 = np.reshape(a, (6, -1))\n",
    "c5 = np.reshape(a, (12, -1))"
   ]
  },
  {
   "cell_type": "code",
   "execution_count": 6,
   "id": "b6874497",
   "metadata": {},
   "outputs": [
    {
     "data": {
      "text/plain": [
       "(array([[12, 13, 14, 15, 16, 17],\n",
       "        [18, 19, 20, 21, 22, 23]]),\n",
       " array([[12, 13, 14, 15],\n",
       "        [16, 17, 18, 19],\n",
       "        [20, 21, 22, 23]]),\n",
       " array([[12, 13, 14],\n",
       "        [15, 16, 17],\n",
       "        [18, 19, 20],\n",
       "        [21, 22, 23]]),\n",
       " array([[12, 13],\n",
       "        [14, 15],\n",
       "        [16, 17],\n",
       "        [18, 19],\n",
       "        [20, 21],\n",
       "        [22, 23]]),\n",
       " array([[12],\n",
       "        [13],\n",
       "        [14],\n",
       "        [15],\n",
       "        [16],\n",
       "        [17],\n",
       "        [18],\n",
       "        [19],\n",
       "        [20],\n",
       "        [21],\n",
       "        [22],\n",
       "        [23]]))"
      ]
     },
     "execution_count": 6,
     "metadata": {},
     "output_type": "execute_result"
    }
   ],
   "source": [
    "c1, c2, c3, c4, c5"
   ]
  },
  {
   "cell_type": "code",
   "execution_count": 7,
   "id": "0c5bb423",
   "metadata": {},
   "outputs": [
    {
     "data": {
      "text/plain": [
       "((12, 1), (12,))"
      ]
     },
     "execution_count": 7,
     "metadata": {},
     "output_type": "execute_result"
    }
   ],
   "source": [
    "# 4 вопрос: это двумерный массив структуры (12, 1)\n",
    "# в отличие от массива а, который является одномерным\n",
    "c5.shape, a.shape"
   ]
  },
  {
   "cell_type": "code",
   "execution_count": 8,
   "id": "129d9cb8",
   "metadata": {},
   "outputs": [
    {
     "data": {
      "text/plain": [
       "(array([[2.0703767 , 4.00152144, 2.59039203, 4.24514414],\n",
       "        [3.33232164, 4.58677375, 4.78098734, 2.21363326],\n",
       "        [4.02004554, 3.58106809, 3.10376014, 4.8230081 ]]),\n",
       " 12)"
      ]
     },
     "execution_count": 8,
     "metadata": {},
     "output_type": "execute_result"
    }
   ],
   "source": [
    "d= np.random.uniform(2, 5, (3, 4))\n",
    "d, d.size"
   ]
  },
  {
   "cell_type": "code",
   "execution_count": 9,
   "id": "3f002c31",
   "metadata": {},
   "outputs": [
    {
     "data": {
      "text/plain": [
       "(array([[2.0703767 , 4.00152144, 2.59039203, 4.24514414, 3.33232164,\n",
       "         4.58677375, 4.78098734, 2.21363326, 4.02004554, 3.58106809,\n",
       "         3.10376014, 4.8230081 ]]),\n",
       " 12)"
      ]
     },
     "execution_count": 9,
     "metadata": {},
     "output_type": "execute_result"
    }
   ],
   "source": [
    "d_mono = d.reshape(1, -1)\n",
    "d_mono, d_mono.size"
   ]
  },
  {
   "cell_type": "code",
   "execution_count": 10,
   "id": "67813d9c",
   "metadata": {},
   "outputs": [
    {
     "data": {
      "text/plain": [
       "(array([20, 18, 16, 14, 12, 10,  8,  6,  4,  2]), (10,))"
      ]
     },
     "execution_count": 10,
     "metadata": {},
     "output_type": "execute_result"
    }
   ],
   "source": [
    "e_a = np.array([i for i in range(20, 1, -2)])\n",
    "e_a, e_a.shape "
   ]
  },
  {
   "cell_type": "code",
   "execution_count": 11,
   "id": "c1edb449",
   "metadata": {},
   "outputs": [
    {
     "data": {
      "text/plain": [
       "(array([[20, 18, 16, 14, 12, 10,  8,  6,  4,  2]]), (1, 10))"
      ]
     },
     "execution_count": 11,
     "metadata": {},
     "output_type": "execute_result"
    }
   ],
   "source": [
    "e_b = np.array([i for i in range(20, 1, -2)]).reshape(1, -1)\n",
    "e_b, e_b.shape\n",
    "# разница e_a и e_b в том, что в первом случае это одномерный массив, а во втором - двумерный"
   ]
  },
  {
   "cell_type": "code",
   "execution_count": 12,
   "id": "cf4755fc",
   "metadata": {},
   "outputs": [
    {
     "data": {
      "text/plain": [
       "(array([[0., 0.],\n",
       "        [0., 0.],\n",
       "        [1., 1.],\n",
       "        [1., 1.],\n",
       "        [1., 1.]]),\n",
       " 10)"
      ]
     },
     "execution_count": 12,
     "metadata": {},
     "output_type": "execute_result"
    }
   ],
   "source": [
    "f_a = np.zeros((2, 2))\n",
    "f_b = np.ones((3, 2))\n",
    "f_ab = np.vstack((f_a, f_b))\n",
    "f_ab, f_ab.size"
   ]
  },
  {
   "cell_type": "code",
   "execution_count": 13,
   "id": "b487a4d9",
   "metadata": {},
   "outputs": [
    {
     "data": {
      "text/plain": [
       "(array([[ 0,  1,  2],\n",
       "        [ 3,  4,  5],\n",
       "        [ 6,  7,  8],\n",
       "        [ 9, 10, 11]]),\n",
       " array([[ 0,  3,  6,  9],\n",
       "        [ 1,  4,  7, 10],\n",
       "        [ 2,  5,  8, 11]]),\n",
       " array([[  5,  14,  23,  32],\n",
       "        [ 14,  50,  86, 122],\n",
       "        [ 23,  86, 149, 212],\n",
       "        [ 32, 122, 212, 302]]),\n",
       " (4, 4),\n",
       " 0.0)"
      ]
     },
     "execution_count": 13,
     "metadata": {},
     "output_type": "execute_result"
    }
   ],
   "source": [
    "g_a = np.arange(12)\n",
    "g_A = g_a.reshape(4, 3)\n",
    "g_At = np.transpose(g_A)\n",
    "g_B = np.dot(g_A, g_At)\n",
    "# из g_B нельзя получить обратную матрицу, т.к. ее определитель равен \"0\"\n",
    "g_A, g_At, g_B, g_B.shape, np.linalg.det(g_B)"
   ]
  },
  {
   "cell_type": "code",
   "execution_count": 14,
   "id": "c1136892",
   "metadata": {},
   "outputs": [],
   "source": [
    "np.random.seed(42)"
   ]
  },
  {
   "cell_type": "code",
   "execution_count": 15,
   "id": "22966066",
   "metadata": {},
   "outputs": [
    {
     "data": {
      "text/plain": [
       "(array([[ 0,  1,  2,  3],\n",
       "        [ 4,  5,  6,  7],\n",
       "        [ 8,  9, 10, 11],\n",
       "        [12, 13, 14, 15]]),\n",
       " array([[  5,  14,  23,  32],\n",
       "        [ 14,  50,  86, 122],\n",
       "        [ 23,  86, 149, 212],\n",
       "        [ 32, 122, 212, 302]]),\n",
       " array([[  5,  24,  43,  62],\n",
       "        [ 54, 100, 146, 192],\n",
       "        [103, 176, 249, 322],\n",
       "        [152, 252, 352, 452]]),\n",
       " -7.685903354004529e-25,\n",
       " 2,\n",
       " array([[ 1.10382344e+13,  5.26315789e-02, -3.31147031e+13,\n",
       "          2.20764688e+13],\n",
       "        [-8.46264636e+13,  9.38249922e+13,  6.62294063e+13,\n",
       "         -7.54279349e+13],\n",
       "        [ 1.36138224e+14, -1.87649984e+14, -3.31147031e+13,\n",
       "          8.46264636e+13],\n",
       "        [-6.25499948e+13,  9.38249922e+13,  0.00000000e+00,\n",
       "         -3.12749974e+13]]))"
      ]
     },
     "execution_count": 15,
     "metadata": {},
     "output_type": "execute_result"
    }
   ],
   "source": [
    "h_c = np.array([i for i in range(0, 16)])\n",
    "C = h_c.reshape(4, -1)\n",
    "D = C*10 + g_B\n",
    "D_inv = np.linalg.inv(D)\n",
    "C, g_B, D, np.linalg.det(D), np.linalg.matrix_rank(D), D_inv"
   ]
  },
  {
   "cell_type": "code",
   "execution_count": 16,
   "id": "bc8d7f7e",
   "metadata": {},
   "outputs": [
    {
     "data": {
      "text/plain": [
       "array([[1., 1., 0., 1.],\n",
       "       [0., 1., 1., 0.],\n",
       "       [1., 0., 0., 1.],\n",
       "       [0., 1., 0., 0.]])"
      ]
     },
     "execution_count": 16,
     "metadata": {},
     "output_type": "execute_result"
    }
   ],
   "source": [
    "D_inv[D_inv < 0] = 0\n",
    "D_inv[D_inv > 0] = 1\n",
    "D_inv"
   ]
  },
  {
   "cell_type": "code",
   "execution_count": 17,
   "id": "dafd5dce",
   "metadata": {},
   "outputs": [],
   "source": [
    "# как проверить, что у нас только 0 и 1?"
   ]
  },
  {
   "cell_type": "code",
   "execution_count": 19,
   "id": "e0120ab0",
   "metadata": {},
   "outputs": [
    {
     "data": {
      "text/plain": [
       "array([[  5,  14,   2,  32],\n",
       "       [  4,  50,  86,   7],\n",
       "       [ 23,   9,  10, 212],\n",
       "       [ 12, 122,  14,  15]])"
      ]
     },
     "execution_count": 19,
     "metadata": {},
     "output_type": "execute_result"
    }
   ],
   "source": [
    "np.where(D_inv, g_B, C)"
   ]
  }
 ],
 "metadata": {
  "kernelspec": {
   "display_name": "Python 3 (ipykernel)",
   "language": "python",
   "name": "python3"
  },
  "language_info": {
   "codemirror_mode": {
    "name": "ipython",
    "version": 3
   },
   "file_extension": ".py",
   "mimetype": "text/x-python",
   "name": "python",
   "nbconvert_exporter": "python",
   "pygments_lexer": "ipython3",
   "version": "3.9.7"
  }
 },
 "nbformat": 4,
 "nbformat_minor": 5
}
